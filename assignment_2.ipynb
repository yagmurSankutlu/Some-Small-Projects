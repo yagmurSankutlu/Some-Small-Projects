{
 "cells": [
  {
   "cell_type": "code",
   "execution_count": null,
   "id": "bc113d98",
   "metadata": {},
   "outputs": [],
   "source": [
    "class Account:\n",
    "\n",
    "    def __init__(self, id=0, balance=100, annualInterestRate=0):\n",
    "\n",
    "        self.__self = self\n",
    "        self.__id = id\n",
    "        self.__balance = balance\n",
    "        self.__annualInterestRate = annualInterestRate\n",
    "\n",
    "\n",
    "    def get_id(self):\n",
    "        return self.__id\n",
    "\n",
    "    def get_balance(self):\n",
    "        return self.__balance\n",
    "\n",
    "    def get_annualInterestRate(self):\n",
    "        return self.__annualInterestRate\n",
    "\n",
    "\n",
    "    def set_id(self, id):\n",
    "        self.__id = id\n",
    "\n",
    "    def set_balance(self, balance):\n",
    "        self.__balance = balance\n",
    "\n",
    "    def set_annualInterestRate(self, annualInterestRate):\n",
    "        self.__annualInterestRate = annualInterestRate\n",
    "\n",
    "\n",
    "    def getMonthlyInterestRate(self):\n",
    "        MonthlyInterestRate = (self.__annualInterestRate / 100 ) 12\n",
    "        return  MonthlyInterestRate\n",
    "    \n",
    "    def getMonthlyInterest(self):\n",
    "        MonthlyInterest = self.__balance * self.getMonthlyInterestRate()\n",
    "        return MonthlyInterest\n",
    "    \n",
    "    def withdraw(self, amount):\n",
    "        self.__balance = self.__balance - amount \n",
    "        \n",
    "        \n",
    "    def deposit(self, amount):\n",
    "        self.__balance = self.__balance + amount"
   ]
  },
  {
   "cell_type": "raw",
   "id": "8308509f",
   "metadata": {},
   "source": [
    "+---------------------------------------+\n",
    "|                Account                |\n",
    "+---------------------------------------+\n",
    "| - id: int                             |\n",
    "| - balance: float                      |\n",
    "| - annualInterestRate: float           |\n",
    "+---------------------------------------+\n",
    "| + get_id(): int                       |\n",
    "| + get_balance(): float                |\n",
    "| + get_annualInterestRate(): float     |\n",
    "| + getMonthlyInterestRate(): float     |\n",
    "| + getMonthlyInterest(): float         |\n",
    "| + withdraw(amount: float)             |\n",
    "| + deposit(amount: float)              |\n",
    "+---------------------------------------+\n"
   ]
  },
  {
   "cell_type": "code",
   "execution_count": 36,
   "id": "6a2e3e8b",
   "metadata": {},
   "outputs": [
    {
     "name": "stdout",
     "output_type": "stream",
     "text": [
      "Account ID: 1122\n",
      "Balance: 20500\n",
      "Monthly Interest Rate: 0.375\n",
      "Monthly Interest: 7687.5\n"
     ]
    }
   ],
   "source": [
    "# create account with initial balance of $20,000 and 4.5% interest rate\n",
    "account = Account(1122, 20000, 4.5)\n",
    "\n",
    "# withdraw $2,500\n",
    "account.withdraw(2500)\n",
    "\n",
    "# deposit $3,000\n",
    "account.deposit(3000)\n",
    "\n",
    "# print account information\n",
    "print(\"Account ID:\", account.get_id())\n",
    "print(\"Balance:\", account.get_balance())\n",
    "print(\"Monthly Interest Rate:\", account.getMonthlyInterestRate())\n",
    "print(\"Monthly Interest:\", account.getMonthlyInterest())"
   ]
  },
  {
   "cell_type": "code",
   "execution_count": 37,
   "id": "40b9ee1b",
   "metadata": {},
   "outputs": [
    {
     "data": {
      "text/plain": [
       "0.375"
      ]
     },
     "execution_count": 37,
     "metadata": {},
     "output_type": "execute_result"
    }
   ],
   "source": [
    "4.5/12"
   ]
  },
  {
   "cell_type": "code",
   "execution_count": 40,
   "id": "4f8cc129",
   "metadata": {},
   "outputs": [
    {
     "data": {
      "text/plain": [
       "7687.5"
      ]
     },
     "execution_count": 40,
     "metadata": {},
     "output_type": "execute_result"
    }
   ],
   "source": [
    "20500 * 0.375"
   ]
  },
  {
   "cell_type": "code",
   "execution_count": null,
   "id": "b5c2ea36",
   "metadata": {},
   "outputs": [],
   "source": []
  }
 ],
 "metadata": {
  "kernelspec": {
   "display_name": "Python 3 (ipykernel)",
   "language": "python",
   "name": "python3"
  },
  "language_info": {
   "codemirror_mode": {
    "name": "ipython",
    "version": 3
   },
   "file_extension": ".py",
   "mimetype": "text/x-python",
   "name": "python",
   "nbconvert_exporter": "python",
   "pygments_lexer": "ipython3",
   "version": "3.9.13"
  }
 },
 "nbformat": 4,
 "nbformat_minor": 5
}
