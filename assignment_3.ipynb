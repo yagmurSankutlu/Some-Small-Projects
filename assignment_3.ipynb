{
 "cells": [
  {
   "cell_type": "markdown",
   "id": "a1bfc271",
   "metadata": {},
   "source": [
    "# Quaternions"
   ]
  },
  {
   "cell_type": "code",
   "execution_count": 1,
   "id": "7d42fc64",
   "metadata": {},
   "outputs": [],
   "source": [
    "class Quaternions:\n",
    "    \n",
    "    def __init__(self, x_0, x_1, x_2, x_3):\n",
    "        self.__x_0 = x_0\n",
    "        self.__x_1 = x_1\n",
    "        self.__x_2 = x_2\n",
    "        self.__x_3 = x_3\n",
    "    \n",
    "    def quaternion(self):\n",
    "        x = (self.__x_0, self.__x_1, self.__x_2, self.__x_3)\n",
    "        return x\n",
    "\n",
    "    def __abs__(self):\n",
    "        magnitude = ((self.__x_0**2) + (self.__x_1**2) + (self.__x_2**2) + (self.__x_3**2))**(1/2)\n",
    "        return magnitude \n",
    "    \n",
    "    def conjugate(self):\n",
    "        conjugate = Quaternions(self.__x_0, -self.__x_1, -self.__x_2, -self.__x_3)\n",
    "        return conjugate \n",
    "    \n",
    "    def inverse(self):\n",
    "        inverse = Quaternions(self.__x_0/ self.__abs__(), -self.__x_1/ self.__abs__(), -self.__x_2/ self.__abs__(), -self.__x_3/ self.__abs__())  \n",
    "        return inverse\n",
    "    \n",
    "    def __sum__(self, y):     \n",
    "        sum = Quaternions(self.__x_0 + y.__x_0, self.__x_1 + y.__x_1, self.__x_2 + y.__x_2, self.__x_3 + y.__x_3)\n",
    "        return sum\n",
    "    \n",
    "    def __mul__(self, y):\n",
    "        product = Quaternions(self.__x_0 * y.__x_0 - self.__x_1 * y.__x_1 - self.__x_2 * y.__x_2 - self.__x_3 * y.__x_3,\n",
    "                              self.__x_1 * y.__x_0 + self.__x_0 * y.__x_1 + self.__x_2 * y.__x_3 - self.__x_3 * y.__x_2,\n",
    "                              self.__x_0 * y.__x_2 - self.__x_1 * y.__x_3 + self.__x_2 * y.__x_0 + self.__x_3 * y.__x_1,\n",
    "                              self.__x_0 * y.__x_3 + self.__x_1 * y.__x_2 - self.__x_2 * y.__x_1 + self.__x_3 * y.__x_0\n",
    "                              )\n",
    "        return product\n",
    "    \n",
    "    def quotient(self, y):\n",
    "        y = y.inverse()\n",
    "        quotient = self.__mul__(y)\n",
    "        return quotient\n",
    "\n",
    "    \n",
    "    def __str__(self):\n",
    "        a = \"the quaternion is: \" + str((self.__x_0, self.__x_1, self.__x_2, self.__x_3)) + \"\\n\" \\\n",
    "            + \"the magnitude is: \" + str(abs(self)) + \"\\n\" \\\n",
    "            + \"the conjugate is: \" + str((self.__x_0, -self.__x_1, -self.__x_2, -self.__x_3)) + \"\\n\" \\\n",
    "            + \"the inverse is: \" + str((self.__x_0/ abs(self), -self.__x_1/ abs(self), -self.__x_2/ abs(self), -self.__x_3/ abs(self)))+ \"\\n\" \\\n",
    "        \n",
    "        return a"
   ]
  },
  {
   "cell_type": "code",
   "execution_count": 2,
   "id": "350810d4",
   "metadata": {},
   "outputs": [],
   "source": [
    "def testQuaternions():\n",
    "\n",
    "    # I created some quaternions for testing\n",
    "    q1 = Quaternions(1, 2, 3, 4)\n",
    "    q2 = Quaternions(5, 6, 7, 8)\n",
    "\n",
    "\n",
    "    # I printed the quaternions for visual verification\n",
    "    print(q1)\n",
    "    print(q2)\n",
    "\n",
    "    #I employed the assert method to verify the output of our code against the manually calculated result.\n",
    "    assert q1.quaternion() == (1, 2, 3, 4), \"quaternion() method test failed\"\n",
    "\n",
    "\n",
    "    assert q1.__abs__() == 5.477225575051661, \"__abs__() method test failed\"\n",
    "\n",
    "  \n",
    "    # I used q1.conjugate().quaternion() to retrieve the quaternion vector since the conjugate() method returns a quaternion object.\n",
    "    assert q1.conjugate().quaternion() == (1, -2, -3, -4), \"conjugate() method test failed\"\n",
    "\n",
    "\n",
    "    assert q1.inverse().quaternion() == (0.18257418583505536, -0.3651483716701107, -0.5477225575051661, -0.7302967433402214), \"inverse() method test failed\"\n",
    "\n",
    "    \n",
    "    assert q1.__sum__(q2).quaternion() == (6, 8, 10, 12), \"__sum__() method test failed\"\n",
    "    print(\"the sum of the quaternions: \" + str(q1.__sum__(q2).quaternion()))\n",
    "    \n",
    "\n",
    "    assert q1.__mul__(q2).quaternion() == (-60, 12, 30, 24), \"__mul__() method test failed\"\n",
    "    print(\"the product of the quaternions: \" + str(q1.__mul__(q2).quaternion()))\n",
    "\n",
    "    \n",
    "    assert q1.quotient(q2).quaternion() == (5.306686305052324, 0.6064784348631229, 0.0, 1.2129568697262454), \"quotient() method test failed\"\n",
    "    print(\"the quotient of the quaternions: \" + str(q1.quotient(q2).quaternion()))"
   ]
  },
  {
   "cell_type": "code",
   "execution_count": 3,
   "id": "2ef7233b",
   "metadata": {},
   "outputs": [
    {
     "name": "stdout",
     "output_type": "stream",
     "text": [
      "the quaternion is: (1, 2, 3, 4)\n",
      "the magnitude is: 5.477225575051661\n",
      "the conjugate is: (1, -2, -3, -4)\n",
      "the inverse is: (0.18257418583505536, -0.3651483716701107, -0.5477225575051661, -0.7302967433402214)\n",
      "\n",
      "the quaternion is: (5, 6, 7, 8)\n",
      "the magnitude is: 13.19090595827292\n",
      "the conjugate is: (5, -6, -7, -8)\n",
      "the inverse is: (0.3790490217894517, -0.454858826147342, -0.5306686305052324, -0.6064784348631227)\n",
      "\n",
      "the sum of the quaternions: (6, 8, 10, 12)\n",
      "the product of the quaternions: (-60, 12, 30, 24)\n",
      "the quotient of the quaternions: (5.306686305052324, 0.6064784348631229, 0.0, 1.2129568697262454)\n"
     ]
    }
   ],
   "source": [
    "testQuaternions()"
   ]
  },
  {
   "cell_type": "markdown",
   "id": "03c5e005",
   "metadata": {},
   "source": [
    "## Part 2"
   ]
  },
  {
   "cell_type": "raw",
   "id": "243d1f33",
   "metadata": {},
   "source": [
    "x = 0 \n",
    "for i in range(1, n+1, 4): \n",
    "    for j in range(1, n+1, n//4):\n",
    "        k = 1 \n",
    "        while k <= j: \n",
    "            x += 1 \n",
    "            k *= 2\n",
    "            print(x, k)"
   ]
  },
  {
   "cell_type": "raw",
   "id": "43b9cc49",
   "metadata": {},
   "source": [
    "pseudocode for the algorithm:    \n",
    "\n",
    "set x equal to 0\n",
    "for i from 1 to n in steps of 4:\n",
    "    for j from 1 to n in steps of n//4:\n",
    "        set k to 1\n",
    "        while k is less than or equal to j:\n",
    "            increment x by 1\n",
    "            double k\n",
    "            \n",
    "number of iterations in the outer loop is n/4. Time complexity: O(n)\n",
    "number of iterations in the inner loop is n//(n//4) = 4. Time complexity: O(1)\n",
    "\n",
    "while loop depends on the value of j and the number of times k can be doubled until it exceeds j. Each doubling of k corresponds to adding one more power of 2 to its value, and the logarithm base 2 of a number tells us how many times we need to multiply 2 by itself to obtain that number. The while loop iterates log_2(j) times before k exceeds j. In the worst case, j is equal to n, so the time complexity: O(log(n)).\n",
    "\n",
    "Overall: T(n) = O(n) * O(1) *  O(log(n))\n",
    "              = O(nlog(n))\n"
   ]
  }
 ],
 "metadata": {
  "kernelspec": {
   "display_name": "Python 3 (ipykernel)",
   "language": "python",
   "name": "python3"
  },
  "language_info": {
   "codemirror_mode": {
    "name": "ipython",
    "version": 3
   },
   "file_extension": ".py",
   "mimetype": "text/x-python",
   "name": "python",
   "nbconvert_exporter": "python",
   "pygments_lexer": "ipython3",
   "version": "3.9.13"
  }
 },
 "nbformat": 4,
 "nbformat_minor": 5
}
